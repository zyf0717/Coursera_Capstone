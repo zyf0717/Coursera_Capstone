{
 "cells": [
  {
   "cell_type": "markdown",
   "metadata": {},
   "source": [
    "## 1. Introduction\n",
    "\n",
    "It is extremely expensive to own cars in Singapore. The cheapest alternative would be public transport, in the form of MRT/LRT (Singapore's train/metro/subway) or public buses.\n",
    "\n",
    "Amenities are therefore generally located in the vicinity of such train stations, and these stations can be thought of as a proxy for the centre of activity for each region within Singapore.\n",
    "\n",
    "The primary aim of this project would be to cluster and identify similar \"town centres\", based on the location of MRT/LRT Stations. As amenities generally take the form of restaurants, shop, parks, fitness-related areas, entertainment etc., Foursquare data would be very useful in this regard.\n",
    "\n",
    "After clustering, mapping would allow visual identification of similar clusters."
   ]
  },
  {
   "cell_type": "markdown",
   "metadata": {},
   "source": [
    "## 2. Data\n",
    "\n",
    "Data can be obtained from the website of LTA (Land Transport Authority): https://www.mytransport.sg/content/mytransport/home/dataMall/static-data.html\n",
    "\n",
    "Data downloaded is in SHP form, and will require the shapefile library to open and read.\n",
    "\n",
    "Once read, data can easily be inserted into pandas dataframe for further manipulation and analysis.\n",
    "\n",
    "Coordinates provided is in the SVY21 format, and will require conversion to the standard latitude and longitude format for mapping with folium. Requests to Foursquare will also require coordinates in latitude and longitude format. Resource found in this regard: https://gist.githubusercontent.com/jovianlin/30b0fd93e2b835cb1e8d93bfa0e1e62f/raw/89548360fb54ab1e0441b0935fc52fbbac6d263e/SVY21.py\n",
    "\n",
    "Once converted coordinates have been converted, requests, clustering and mapping can then proceed as per previous exercises and assignments."
   ]
  },
  {
   "cell_type": "markdown",
   "metadata": {},
   "source": [
    "## 3. Methodology \n",
    "\n",
    "General summary of the methodology:\n",
    "1. import libraries\n",
    "2. open downloaded .shp and .dbf files with shapefile\n",
    "3. retrieve data and populate initial dataframe\n",
    "4. import a module to convert coordinates to standard format\n",
    "5. inital plot to check everything above works as expected\n",
    "6. obtain nearby venues from Foursquare\n",
    "7. identify most common venues\n",
    "8. clustering\n",
    "9. create final map\n",
    "10. list data points of each cluster \n",
    "\n",
    "Please see accompanying notebook \"week_5_code.ipynb\"."
   ]
  },
  {
   "cell_type": "markdown",
   "metadata": {},
   "source": [
    "## 4. Results\n",
    "\n",
    "Results show that there are three main clusters (red, purble, blue), with the forth (light blue) and the fifth cluster (light brown) containing a very small number of stations."
   ]
  },
  {
   "cell_type": "markdown",
   "metadata": {},
   "source": [
    "## 5. Discussion\n",
    "\n",
    "Red clusters comprises of stations found mainly in the Central Business District (CBD), and stations generally found near large shopping complexes. Restaurants, entertainment and supermarkets appear to be strong indicators. This cluster also appears to be associated with a higher cost of living.\n",
    "\n",
    "Purple clusters comprises of stations mainly found surrounded primarily by public housing estates, and is indicative of a certain set of amenities usually associated with such estates. Such amenities include food courts, coffee shops, parks, various gyms etc. This cluster also appears to be indicative of a lower cost of living.\n",
    "\n",
    "Blue clusters comprises of stations surrounding the CBD, and appears to share characteristics of both the red and purple clusters.\n",
    "\n",
    "Difficulty arises when attempting to characterise the light blue and light brown clusters due to the lack of samples."
   ]
  },
  {
   "cell_type": "markdown",
   "metadata": {},
   "source": [
    "## 6. Conclusion\n",
    "\n",
    "Overall, the main clusters are as expected, and appear to be correlated to costs of living (or centrality) of areas near the station.\n",
    "\n",
    "It is worth noting that while stations might be a good proxy of \"town centres\", it might not be representative of the select region as a whole. \n",
    "\n",
    "While clusters of similar stations, based on surrounding amenities, are roughly identified, further analysis could perhaps be done to identify or perhaps even quantify the reasons for the clustering."
   ]
  }
 ],
 "metadata": {
  "kernelspec": {
   "display_name": "Python 3",
   "language": "python",
   "name": "python3"
  },
  "language_info": {
   "codemirror_mode": {
    "name": "ipython",
    "version": 3
   },
   "file_extension": ".py",
   "mimetype": "text/x-python",
   "name": "python",
   "nbconvert_exporter": "python",
   "pygments_lexer": "ipython3",
   "version": "3.7.3"
  }
 },
 "nbformat": 4,
 "nbformat_minor": 4
}
