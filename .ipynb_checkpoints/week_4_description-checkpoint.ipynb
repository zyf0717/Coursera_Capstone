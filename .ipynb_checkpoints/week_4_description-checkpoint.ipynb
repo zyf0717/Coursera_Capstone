{
 "cells": [
  {
   "cell_type": "markdown",
   "metadata": {},
   "source": [
    "It is extremely expensive to own cars in Singapore. The cheapest alternative would be public transport, in the form of MRT/LRT (Singapore's metro/subway) or public buses. \n",
    "\n",
    "Amenities are therefore generally located in the vicinity of MRT stations, and MRT stations can be thought of as a proxy for the centre of activity for each region within Singapore.\n",
    "\n",
    "The primary aim of this project would be to cluster and identify similar \"centres\", based on the location of MRT/LRT Stations. As amenities generally take the form of restaurants, shop, parks, fitness-related areas, entertainment etc., Foursquare data would be very useful in this regard.\n",
    "\n",
    "After clustering, mapping would allow visual identification of similar clusters."
   ]
  }
 ],
 "metadata": {
  "kernelspec": {
   "display_name": "Python 3",
   "language": "python",
   "name": "python3"
  },
  "language_info": {
   "codemirror_mode": {
    "name": "ipython",
    "version": 3
   },
   "file_extension": ".py",
   "mimetype": "text/x-python",
   "name": "python",
   "nbconvert_exporter": "python",
   "pygments_lexer": "ipython3",
   "version": "3.7.3"
  }
 },
 "nbformat": 4,
 "nbformat_minor": 4
}
