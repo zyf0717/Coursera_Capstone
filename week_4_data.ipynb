{
 "cells": [
  {
   "cell_type": "markdown",
   "metadata": {},
   "source": [
    "Data can be obtained from the website of LTA (Land Transport Authority): https://www.mytransport.sg/content/mytransport/home/dataMall/static-data.html\n",
    "\n",
    "Data downloaded is in SHP form, and will require the shapefile library to open and read.\n",
    "\n",
    "Once read, data can easily be inserted into pandas dataframe for further manipulation and analysis.\n",
    "\n",
    "Coordinates provided is in the SVY21 format, and will require conversion to the standard latitude and longitude format for mapping with folium. Requests to Foursquare will also require coordinates in latitude and longitude format. Resource found in this regards: https://gist.githubusercontent.com/jovianlin/30b0fd93e2b835cb1e8d93bfa0e1e62f/raw/89548360fb54ab1e0441b0935fc52fbbac6d263e/SVY21.py\n",
    "\n",
    "Once converted coordinates have been converted, requests, clustering and mapping can then proceed as per previous assignments."
   ]
  }
 ],
 "metadata": {
  "kernelspec": {
   "display_name": "Python 3",
   "language": "python",
   "name": "python3"
  },
  "language_info": {
   "codemirror_mode": {
    "name": "ipython",
    "version": 3
   },
   "file_extension": ".py",
   "mimetype": "text/x-python",
   "name": "python",
   "nbconvert_exporter": "python",
   "pygments_lexer": "ipython3",
   "version": "3.7.3"
  }
 },
 "nbformat": 4,
 "nbformat_minor": 4
}
